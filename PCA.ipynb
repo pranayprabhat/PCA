{
 "cells": [
  {
   "cell_type": "code",
   "execution_count": 2,
   "id": "76830758",
   "metadata": {},
   "outputs": [],
   "source": [
    "import numpy as np\n",
    "import pandas as pd\n",
    "from sklearn.preprocessing import StandardScaler\n",
    "import matplotlib.pyplot as plt\n",
    "from sklearn.decomposition import PCA"
   ]
  },
  {
   "cell_type": "code",
   "execution_count": 3,
   "id": "ca5a9395",
   "metadata": {},
   "outputs": [],
   "source": [
    "data = pd.read_csv(\"C:/Users/pranay/Downloads/wine.csv\")"
   ]
  },
  {
   "cell_type": "code",
   "execution_count": 4,
   "id": "acb5c11d",
   "metadata": {},
   "outputs": [
    {
     "data": {
      "text/html": [
       "<div>\n",
       "<style scoped>\n",
       "    .dataframe tbody tr th:only-of-type {\n",
       "        vertical-align: middle;\n",
       "    }\n",
       "\n",
       "    .dataframe tbody tr th {\n",
       "        vertical-align: top;\n",
       "    }\n",
       "\n",
       "    .dataframe thead th {\n",
       "        text-align: right;\n",
       "    }\n",
       "</style>\n",
       "<table border=\"1\" class=\"dataframe\">\n",
       "  <thead>\n",
       "    <tr style=\"text-align: right;\">\n",
       "      <th></th>\n",
       "      <th>Type</th>\n",
       "      <th>Alcohol</th>\n",
       "      <th>Malic</th>\n",
       "      <th>Ash</th>\n",
       "      <th>Alcalinity</th>\n",
       "      <th>Magnesium</th>\n",
       "      <th>Phenols</th>\n",
       "      <th>Flavanoids</th>\n",
       "      <th>Nonflavanoids</th>\n",
       "      <th>Proanthocyanins</th>\n",
       "      <th>Color</th>\n",
       "      <th>Hue</th>\n",
       "      <th>Dilution</th>\n",
       "      <th>Proline</th>\n",
       "    </tr>\n",
       "  </thead>\n",
       "  <tbody>\n",
       "    <tr>\n",
       "      <th>0</th>\n",
       "      <td>1</td>\n",
       "      <td>14.23</td>\n",
       "      <td>1.71</td>\n",
       "      <td>2.43</td>\n",
       "      <td>15.6</td>\n",
       "      <td>127</td>\n",
       "      <td>2.80</td>\n",
       "      <td>3.06</td>\n",
       "      <td>0.28</td>\n",
       "      <td>2.29</td>\n",
       "      <td>5.64</td>\n",
       "      <td>1.04</td>\n",
       "      <td>3.92</td>\n",
       "      <td>1065</td>\n",
       "    </tr>\n",
       "    <tr>\n",
       "      <th>1</th>\n",
       "      <td>1</td>\n",
       "      <td>13.20</td>\n",
       "      <td>1.78</td>\n",
       "      <td>2.14</td>\n",
       "      <td>11.2</td>\n",
       "      <td>100</td>\n",
       "      <td>2.65</td>\n",
       "      <td>2.76</td>\n",
       "      <td>0.26</td>\n",
       "      <td>1.28</td>\n",
       "      <td>4.38</td>\n",
       "      <td>1.05</td>\n",
       "      <td>3.40</td>\n",
       "      <td>1050</td>\n",
       "    </tr>\n",
       "    <tr>\n",
       "      <th>2</th>\n",
       "      <td>1</td>\n",
       "      <td>13.16</td>\n",
       "      <td>2.36</td>\n",
       "      <td>2.67</td>\n",
       "      <td>18.6</td>\n",
       "      <td>101</td>\n",
       "      <td>2.80</td>\n",
       "      <td>3.24</td>\n",
       "      <td>0.30</td>\n",
       "      <td>2.81</td>\n",
       "      <td>5.68</td>\n",
       "      <td>1.03</td>\n",
       "      <td>3.17</td>\n",
       "      <td>1185</td>\n",
       "    </tr>\n",
       "    <tr>\n",
       "      <th>3</th>\n",
       "      <td>1</td>\n",
       "      <td>14.37</td>\n",
       "      <td>1.95</td>\n",
       "      <td>2.50</td>\n",
       "      <td>16.8</td>\n",
       "      <td>113</td>\n",
       "      <td>3.85</td>\n",
       "      <td>3.49</td>\n",
       "      <td>0.24</td>\n",
       "      <td>2.18</td>\n",
       "      <td>7.80</td>\n",
       "      <td>0.86</td>\n",
       "      <td>3.45</td>\n",
       "      <td>1480</td>\n",
       "    </tr>\n",
       "    <tr>\n",
       "      <th>4</th>\n",
       "      <td>1</td>\n",
       "      <td>13.24</td>\n",
       "      <td>2.59</td>\n",
       "      <td>2.87</td>\n",
       "      <td>21.0</td>\n",
       "      <td>118</td>\n",
       "      <td>2.80</td>\n",
       "      <td>2.69</td>\n",
       "      <td>0.39</td>\n",
       "      <td>1.82</td>\n",
       "      <td>4.32</td>\n",
       "      <td>1.04</td>\n",
       "      <td>2.93</td>\n",
       "      <td>735</td>\n",
       "    </tr>\n",
       "  </tbody>\n",
       "</table>\n",
       "</div>"
      ],
      "text/plain": [
       "   Type  Alcohol  Malic   Ash  Alcalinity  Magnesium  Phenols  Flavanoids  \\\n",
       "0     1    14.23   1.71  2.43        15.6        127     2.80        3.06   \n",
       "1     1    13.20   1.78  2.14        11.2        100     2.65        2.76   \n",
       "2     1    13.16   2.36  2.67        18.6        101     2.80        3.24   \n",
       "3     1    14.37   1.95  2.50        16.8        113     3.85        3.49   \n",
       "4     1    13.24   2.59  2.87        21.0        118     2.80        2.69   \n",
       "\n",
       "   Nonflavanoids  Proanthocyanins  Color   Hue  Dilution  Proline  \n",
       "0           0.28             2.29   5.64  1.04      3.92     1065  \n",
       "1           0.26             1.28   4.38  1.05      3.40     1050  \n",
       "2           0.30             2.81   5.68  1.03      3.17     1185  \n",
       "3           0.24             2.18   7.80  0.86      3.45     1480  \n",
       "4           0.39             1.82   4.32  1.04      2.93      735  "
      ]
     },
     "execution_count": 4,
     "metadata": {},
     "output_type": "execute_result"
    }
   ],
   "source": [
    "data.head()"
   ]
  },
  {
   "cell_type": "code",
   "execution_count": 6,
   "id": "f7cc1f4a",
   "metadata": {},
   "outputs": [
    {
     "data": {
      "text/plain": [
       "(178, 14)"
      ]
     },
     "execution_count": 6,
     "metadata": {},
     "output_type": "execute_result"
    }
   ],
   "source": [
    "data.shape"
   ]
  },
  {
   "cell_type": "code",
   "execution_count": 7,
   "id": "75298933",
   "metadata": {},
   "outputs": [
    {
     "data": {
      "text/html": [
       "<div>\n",
       "<style scoped>\n",
       "    .dataframe tbody tr th:only-of-type {\n",
       "        vertical-align: middle;\n",
       "    }\n",
       "\n",
       "    .dataframe tbody tr th {\n",
       "        vertical-align: top;\n",
       "    }\n",
       "\n",
       "    .dataframe thead th {\n",
       "        text-align: right;\n",
       "    }\n",
       "</style>\n",
       "<table border=\"1\" class=\"dataframe\">\n",
       "  <thead>\n",
       "    <tr style=\"text-align: right;\">\n",
       "      <th></th>\n",
       "      <th>Type</th>\n",
       "      <th>Alcohol</th>\n",
       "      <th>Malic</th>\n",
       "      <th>Ash</th>\n",
       "      <th>Alcalinity</th>\n",
       "      <th>Magnesium</th>\n",
       "      <th>Phenols</th>\n",
       "      <th>Flavanoids</th>\n",
       "      <th>Nonflavanoids</th>\n",
       "      <th>Proanthocyanins</th>\n",
       "      <th>Color</th>\n",
       "      <th>Hue</th>\n",
       "      <th>Dilution</th>\n",
       "      <th>Proline</th>\n",
       "    </tr>\n",
       "  </thead>\n",
       "  <tbody>\n",
       "    <tr>\n",
       "      <th>173</th>\n",
       "      <td>3</td>\n",
       "      <td>13.71</td>\n",
       "      <td>5.65</td>\n",
       "      <td>2.45</td>\n",
       "      <td>20.5</td>\n",
       "      <td>95</td>\n",
       "      <td>1.68</td>\n",
       "      <td>0.61</td>\n",
       "      <td>0.52</td>\n",
       "      <td>1.06</td>\n",
       "      <td>7.7</td>\n",
       "      <td>0.64</td>\n",
       "      <td>1.74</td>\n",
       "      <td>740</td>\n",
       "    </tr>\n",
       "    <tr>\n",
       "      <th>174</th>\n",
       "      <td>3</td>\n",
       "      <td>13.40</td>\n",
       "      <td>3.91</td>\n",
       "      <td>2.48</td>\n",
       "      <td>23.0</td>\n",
       "      <td>102</td>\n",
       "      <td>1.80</td>\n",
       "      <td>0.75</td>\n",
       "      <td>0.43</td>\n",
       "      <td>1.41</td>\n",
       "      <td>7.3</td>\n",
       "      <td>0.70</td>\n",
       "      <td>1.56</td>\n",
       "      <td>750</td>\n",
       "    </tr>\n",
       "    <tr>\n",
       "      <th>175</th>\n",
       "      <td>3</td>\n",
       "      <td>13.27</td>\n",
       "      <td>4.28</td>\n",
       "      <td>2.26</td>\n",
       "      <td>20.0</td>\n",
       "      <td>120</td>\n",
       "      <td>1.59</td>\n",
       "      <td>0.69</td>\n",
       "      <td>0.43</td>\n",
       "      <td>1.35</td>\n",
       "      <td>10.2</td>\n",
       "      <td>0.59</td>\n",
       "      <td>1.56</td>\n",
       "      <td>835</td>\n",
       "    </tr>\n",
       "    <tr>\n",
       "      <th>176</th>\n",
       "      <td>3</td>\n",
       "      <td>13.17</td>\n",
       "      <td>2.59</td>\n",
       "      <td>2.37</td>\n",
       "      <td>20.0</td>\n",
       "      <td>120</td>\n",
       "      <td>1.65</td>\n",
       "      <td>0.68</td>\n",
       "      <td>0.53</td>\n",
       "      <td>1.46</td>\n",
       "      <td>9.3</td>\n",
       "      <td>0.60</td>\n",
       "      <td>1.62</td>\n",
       "      <td>840</td>\n",
       "    </tr>\n",
       "    <tr>\n",
       "      <th>177</th>\n",
       "      <td>3</td>\n",
       "      <td>14.13</td>\n",
       "      <td>4.10</td>\n",
       "      <td>2.74</td>\n",
       "      <td>24.5</td>\n",
       "      <td>96</td>\n",
       "      <td>2.05</td>\n",
       "      <td>0.76</td>\n",
       "      <td>0.56</td>\n",
       "      <td>1.35</td>\n",
       "      <td>9.2</td>\n",
       "      <td>0.61</td>\n",
       "      <td>1.60</td>\n",
       "      <td>560</td>\n",
       "    </tr>\n",
       "  </tbody>\n",
       "</table>\n",
       "</div>"
      ],
      "text/plain": [
       "     Type  Alcohol  Malic   Ash  Alcalinity  Magnesium  Phenols  Flavanoids  \\\n",
       "173     3    13.71   5.65  2.45        20.5         95     1.68        0.61   \n",
       "174     3    13.40   3.91  2.48        23.0        102     1.80        0.75   \n",
       "175     3    13.27   4.28  2.26        20.0        120     1.59        0.69   \n",
       "176     3    13.17   2.59  2.37        20.0        120     1.65        0.68   \n",
       "177     3    14.13   4.10  2.74        24.5         96     2.05        0.76   \n",
       "\n",
       "     Nonflavanoids  Proanthocyanins  Color   Hue  Dilution  Proline  \n",
       "173           0.52             1.06    7.7  0.64      1.74      740  \n",
       "174           0.43             1.41    7.3  0.70      1.56      750  \n",
       "175           0.43             1.35   10.2  0.59      1.56      835  \n",
       "176           0.53             1.46    9.3  0.60      1.62      840  \n",
       "177           0.56             1.35    9.2  0.61      1.60      560  "
      ]
     },
     "execution_count": 7,
     "metadata": {},
     "output_type": "execute_result"
    }
   ],
   "source": [
    "data.tail()"
   ]
  },
  {
   "cell_type": "code",
   "execution_count": 9,
   "id": "a9fb8f0d",
   "metadata": {},
   "outputs": [
    {
     "data": {
      "text/plain": [
       "array([[-1.21394365,  1.51861254, -0.5622498 , ...,  0.36217728,\n",
       "         1.84791957,  1.01300893],\n",
       "       [-1.21394365,  0.24628963, -0.49941338, ...,  0.40605066,\n",
       "         1.1134493 ,  0.96524152],\n",
       "       [-1.21394365,  0.19687903,  0.02123125, ...,  0.31830389,\n",
       "         0.78858745,  1.39514818],\n",
       "       ...,\n",
       "       [ 1.37386437,  0.33275817,  1.74474449, ..., -1.61212515,\n",
       "        -1.48544548,  0.28057537],\n",
       "       [ 1.37386437,  0.20923168,  0.22769377, ..., -1.56825176,\n",
       "        -1.40069891,  0.29649784],\n",
       "       [ 1.37386437,  1.39508604,  1.58316512, ..., -1.52437837,\n",
       "        -1.42894777, -0.59516041]])"
      ]
     },
     "execution_count": 9,
     "metadata": {},
     "output_type": "execute_result"
    }
   ],
   "source": [
    "sd = StandardScaler()\n",
    "sdata = sd.fit_transform(data)\n",
    "sdata"
   ]
  },
  {
   "cell_type": "code",
   "execution_count": 12,
   "id": "b5e7ace9",
   "metadata": {},
   "outputs": [
    {
     "data": {
      "text/plain": [
       "array([[-3.52293390e+00, -1.45309844e+00, -1.64795488e-01, ...,\n",
       "        -4.20493905e-01,  5.52927766e-01, -3.02978176e-01],\n",
       "       [-2.52885806e+00,  3.30019252e-01, -2.02670665e+00, ...,\n",
       "        -1.30019629e-01,  3.94971160e-01, -1.46645308e-01],\n",
       "       [-2.78502898e+00, -1.03693595e+00,  9.83237703e-01, ...,\n",
       "        -2.79074108e-01,  1.89799314e-03,  2.12780166e-02],\n",
       "       ...,\n",
       "       [ 3.02727243e+00, -2.75604024e+00, -9.40803036e-01, ...,\n",
       "         5.02640272e-01,  6.93336340e-01,  1.67035660e-01],\n",
       "       [ 2.75522166e+00, -2.29378408e+00, -5.50473677e-01, ...,\n",
       "         3.13785741e-01,  3.44119826e-01, -1.09514873e-01],\n",
       "       [ 3.49633565e+00, -2.76060799e+00,  1.01315115e+00, ...,\n",
       "        -2.38282390e-01, -1.89866131e-01, -1.64090011e-01]])"
      ]
     },
     "execution_count": 12,
     "metadata": {},
     "output_type": "execute_result"
    }
   ],
   "source": [
    "#implementing pca\n",
    "pca = PCA(n_components = 13)\n",
    "pca_components = pca.fit_transform(sdata)\n",
    "pca_components"
   ]
  },
  {
   "cell_type": "code",
   "execution_count": 13,
   "id": "c30769c8",
   "metadata": {},
   "outputs": [
    {
     "data": {
      "text/plain": [
       "array([[ 0.39366953, -0.13632501,  0.22267638, -0.00225793,  0.22429849,\n",
       "        -0.12463016, -0.35926404, -0.39071171,  0.2670012 , -0.2790625 ,\n",
       "         0.08931829, -0.27682265, -0.35052618, -0.26951525],\n",
       "       [-0.00569041, -0.48416087, -0.22359095, -0.31585588,  0.01161574,\n",
       "        -0.30055143, -0.06711983,  0.00131345, -0.0269887 , -0.04122256,\n",
       "        -0.52978274,  0.27790735,  0.16277625, -0.36605886],\n",
       "       [ 0.00121795, -0.20740081,  0.08879606,  0.62610236,  0.6119896 ,\n",
       "         0.13098458,  0.14650775,  0.15096275,  0.16997551,  0.14987959,\n",
       "        -0.1372663 ,  0.08532854,  0.16620436, -0.12668685],\n",
       "       [ 0.12246373, -0.08191848,  0.46988824, -0.24984122,  0.07199322,\n",
       "        -0.16321412,  0.19098521,  0.14461667, -0.32801272,  0.46275771,\n",
       "         0.07211248, -0.43466618,  0.15672341, -0.2557949 ],\n",
       "       [ 0.15758395, -0.25089415, -0.18860015, -0.0935236 ,  0.0465675 ,\n",
       "         0.77833048, -0.14466563, -0.11200553, -0.43257916,  0.0915882 ,\n",
       "        -0.0462696 , -0.02986657, -0.14419358, -0.08440794],\n",
       "       [ 0.20033864, -0.13517139, -0.59841948, -0.10799983,  0.08811224,\n",
       "        -0.14483831,  0.14809748,  0.06247252,  0.25868639,  0.46627764,\n",
       "         0.42525454, -0.01565089, -0.21770365, -0.0665655 ],\n",
       "       [-0.05938234, -0.09269887,  0.3743698 , -0.16708856, -0.26872469,\n",
       "         0.32957951, -0.03789829, -0.06773223,  0.61111195,  0.42292282,\n",
       "        -0.18613617,  0.19204101, -0.0785098 ,  0.0542037 ],\n",
       "       [-0.07179553, -0.42154435, -0.08757556,  0.17208034, -0.41324857,\n",
       "         0.14881189,  0.36343884,  0.175405  ,  0.23075135, -0.3437392 ,\n",
       "         0.04069617, -0.48362564,  0.06865116, -0.11146671],\n",
       "       [-0.16236882, -0.45019071, -0.00602569,  0.26249446, -0.11863342,\n",
       "        -0.25253628, -0.40637354, -0.09091933, -0.15912282,  0.26578679,\n",
       "        -0.07526459, -0.21241681, -0.08426484,  0.54490539],\n",
       "       [-0.19899373,  0.31127983, -0.32592413, -0.12452347,  0.15716811,\n",
       "         0.12773363, -0.30772263, -0.14044   ,  0.24054263,  0.10869629,\n",
       "        -0.21704255, -0.50966073,  0.45570504, -0.04620802],\n",
       "       [ 0.01444169, -0.22154641,  0.06839251, -0.49452428,  0.47461722,\n",
       "         0.07119731,  0.29740957, -0.03219187,  0.12200984, -0.23292405,\n",
       "         0.01972448, -0.06140493,  0.06646166,  0.55130818],\n",
       "       [ 0.01575769, -0.26411262,  0.1192121 , -0.04502305, -0.06131271,\n",
       "         0.06116074, -0.30087591, -0.05001396,  0.04266558, -0.09334264,\n",
       "         0.59795428,  0.25774292,  0.61109218, -0.07268036],\n",
       "       [-0.49224318, -0.05610645,  0.06675544, -0.19201787,  0.20007784,\n",
       "         0.05829909, -0.35952714,  0.59834288,  0.06403952, -0.11013538,\n",
       "         0.15917751, -0.04923091, -0.32941979, -0.17322892]])"
      ]
     },
     "execution_count": 13,
     "metadata": {},
     "output_type": "execute_result"
    }
   ],
   "source": [
    "pca.components_"
   ]
  },
  {
   "cell_type": "code",
   "execution_count": 16,
   "id": "8630c877",
   "metadata": {},
   "outputs": [
    {
     "data": {
      "text/html": [
       "<div>\n",
       "<style scoped>\n",
       "    .dataframe tbody tr th:only-of-type {\n",
       "        vertical-align: middle;\n",
       "    }\n",
       "\n",
       "    .dataframe tbody tr th {\n",
       "        vertical-align: top;\n",
       "    }\n",
       "\n",
       "    .dataframe thead th {\n",
       "        text-align: right;\n",
       "    }\n",
       "</style>\n",
       "<table border=\"1\" class=\"dataframe\">\n",
       "  <thead>\n",
       "    <tr style=\"text-align: right;\">\n",
       "      <th></th>\n",
       "      <th>Type</th>\n",
       "      <th>PC1</th>\n",
       "      <th>PC2</th>\n",
       "      <th>PC3</th>\n",
       "    </tr>\n",
       "  </thead>\n",
       "  <tbody>\n",
       "    <tr>\n",
       "      <th>0</th>\n",
       "      <td>1</td>\n",
       "      <td>-3.522934</td>\n",
       "      <td>-1.453098</td>\n",
       "      <td>-0.164795</td>\n",
       "    </tr>\n",
       "    <tr>\n",
       "      <th>1</th>\n",
       "      <td>1</td>\n",
       "      <td>-2.528858</td>\n",
       "      <td>0.330019</td>\n",
       "      <td>-2.026707</td>\n",
       "    </tr>\n",
       "    <tr>\n",
       "      <th>2</th>\n",
       "      <td>1</td>\n",
       "      <td>-2.785029</td>\n",
       "      <td>-1.036936</td>\n",
       "      <td>0.983238</td>\n",
       "    </tr>\n",
       "    <tr>\n",
       "      <th>3</th>\n",
       "      <td>1</td>\n",
       "      <td>-3.922588</td>\n",
       "      <td>-2.768210</td>\n",
       "      <td>-0.174968</td>\n",
       "    </tr>\n",
       "    <tr>\n",
       "      <th>4</th>\n",
       "      <td>1</td>\n",
       "      <td>-1.407511</td>\n",
       "      <td>-0.867773</td>\n",
       "      <td>2.025829</td>\n",
       "    </tr>\n",
       "    <tr>\n",
       "      <th>...</th>\n",
       "      <td>...</td>\n",
       "      <td>...</td>\n",
       "      <td>...</td>\n",
       "      <td>...</td>\n",
       "    </tr>\n",
       "    <tr>\n",
       "      <th>173</th>\n",
       "      <td>3</td>\n",
       "      <td>3.627996</td>\n",
       "      <td>-2.206617</td>\n",
       "      <td>-0.343668</td>\n",
       "    </tr>\n",
       "    <tr>\n",
       "      <th>174</th>\n",
       "      <td>3</td>\n",
       "      <td>2.942729</td>\n",
       "      <td>-1.752263</td>\n",
       "      <td>0.207480</td>\n",
       "    </tr>\n",
       "    <tr>\n",
       "      <th>175</th>\n",
       "      <td>3</td>\n",
       "      <td>3.027272</td>\n",
       "      <td>-2.756040</td>\n",
       "      <td>-0.940803</td>\n",
       "    </tr>\n",
       "    <tr>\n",
       "      <th>176</th>\n",
       "      <td>3</td>\n",
       "      <td>2.755222</td>\n",
       "      <td>-2.293784</td>\n",
       "      <td>-0.550474</td>\n",
       "    </tr>\n",
       "    <tr>\n",
       "      <th>177</th>\n",
       "      <td>3</td>\n",
       "      <td>3.496336</td>\n",
       "      <td>-2.760608</td>\n",
       "      <td>1.013151</td>\n",
       "    </tr>\n",
       "  </tbody>\n",
       "</table>\n",
       "<p>178 rows × 4 columns</p>\n",
       "</div>"
      ],
      "text/plain": [
       "     Type       PC1       PC2       PC3\n",
       "0       1 -3.522934 -1.453098 -0.164795\n",
       "1       1 -2.528858  0.330019 -2.026707\n",
       "2       1 -2.785029 -1.036936  0.983238\n",
       "3       1 -3.922588 -2.768210 -0.174968\n",
       "4       1 -1.407511 -0.867773  2.025829\n",
       "..    ...       ...       ...       ...\n",
       "173     3  3.627996 -2.206617 -0.343668\n",
       "174     3  2.942729 -1.752263  0.207480\n",
       "175     3  3.027272 -2.756040 -0.940803\n",
       "176     3  2.755222 -2.293784 -0.550474\n",
       "177     3  3.496336 -2.760608  1.013151\n",
       "\n",
       "[178 rows x 4 columns]"
      ]
     },
     "execution_count": 16,
     "metadata": {},
     "output_type": "execute_result"
    }
   ],
   "source": [
    "pca_df=pd.concat([data['Type'],pd.DataFrame(pca_components[:,0:3],columns=['PC1','PC2','PC3'])],axis=1)\n",
    "pca_df"
   ]
  },
  {
   "cell_type": "code",
   "execution_count": 18,
   "id": "d57d031e",
   "metadata": {},
   "outputs": [
    {
     "name": "stderr",
     "output_type": "stream",
     "text": [
      "C:\\ProgramData\\Anaconda3\\lib\\site-packages\\matplotlib\\collections.py:922: RuntimeWarning: invalid value encountered in sqrt\n",
      "  scale = np.sqrt(self._sizes) * dpi / 72.0 * self._factor\n"
     ]
    },
    {
     "data": {
      "text/plain": [
       "<matplotlib.collections.PathCollection at 0x214dcf115b0>"
      ]
     },
     "execution_count": 18,
     "metadata": {},
     "output_type": "execute_result"
    },
    {
     "data": {
      "image/png": "[encoded data removed]",
      "text/plain": [
       "<Figure size 432x288 with 1 Axes>"
      ]
     },
     "metadata": {
      "needs_background": "light"
     },
     "output_type": "display_data"
    }
   ],
   "source": [
    "plt.scatter(pca_df.PC1,pca_df.PC2,pca_df.PC3)"
   ]
  },
  {
   "cell_type": "code",
   "execution_count": 19,
   "id": "7c6ee067",
   "metadata": {},
   "outputs": [],
   "source": [
    "var = pca.explained_variance_ratio_"
   ]
  },
  {
   "cell_type": "code",
   "execution_count": 20,
   "id": "484676b2",
   "metadata": {},
   "outputs": [
    {
     "data": {
      "text/plain": [
       "array([0.39542486, 0.17836259, 0.10329102, 0.06627984, 0.06267875,\n",
       "       0.0480556 , 0.03955707, 0.02500244, 0.02103871, 0.01873615,\n",
       "       0.01613203, 0.01205691, 0.00925458])"
      ]
     },
     "execution_count": 20,
     "metadata": {},
     "output_type": "execute_result"
    }
   ],
   "source": [
    "var"
   ]
  },
  {
   "cell_type": "code",
   "execution_count": 21,
   "id": "07cc089e",
   "metadata": {},
   "outputs": [],
   "source": [
    "var1 = np.cumsum(np.round(var,decimals=4)*100) #cumulative variance"
   ]
  },
  {
   "cell_type": "code",
   "execution_count": 22,
   "id": "1baa6a18",
   "metadata": {},
   "outputs": [
    {
     "data": {
      "text/plain": [
       "array([39.54, 57.38, 67.71, 74.34, 80.61, 85.42, 89.38, 91.88, 93.98,\n",
       "       95.85, 97.46, 98.67, 99.6 ])"
      ]
     },
     "execution_count": 22,
     "metadata": {},
     "output_type": "execute_result"
    }
   ],
   "source": [
    "var1"
   ]
  },
  {
   "cell_type": "code",
   "execution_count": 23,
   "id": "9f02b61b",
   "metadata": {},
   "outputs": [
    {
     "data": {
      "image/png": "[encoded data removed]",
      "text/plain": [
       "<Figure size 432x288 with 1 Axes>"
      ]
     },
     "metadata": {
      "needs_background": "light"
     },
     "output_type": "display_data"
    }
   ],
   "source": [
    "plt.plot(var1,color='red')\n",
    "plt.title('Screeplot')\n",
    "plt.show()"
   ]
  },
  {
   "cell_type": "code",
   "execution_count": 25,
   "id": "2bad4b4f",
   "metadata": {},
   "outputs": [
    {
     "data": {
      "text/plain": [
       "<AxesSubplot:>"
      ]
     },
     "execution_count": 25,
     "metadata": {},
     "output_type": "execute_result"
    },
    {
     "data": {
      "image/png": "[encoded data removed]",
      "text/plain": [
       "<Figure size 1152x864 with 1 Axes>"
      ]
     },
     "metadata": {
      "needs_background": "light"
     },
     "output_type": "display_data"
    }
   ],
   "source": [
    "# Visualization of PCAs\n",
    "import seaborn as sns\n",
    "fig=plt.figure(figsize=(16,12))\n",
    "sns.scatterplot(data=pca_df)"
   ]
  },
  {
   "cell_type": "code",
   "execution_count": 26,
   "id": "10c23312",
   "metadata": {},
   "outputs": [],
   "source": [
    "# import hierarchical clustering libraries\n",
    "import scipy.cluster.hierarchy as sch\n",
    "from sklearn.cluster import AgglomerativeClustering"
   ]
  },
  {
   "cell_type": "code",
   "execution_count": 31,
   "id": "3606dc8a",
   "metadata": {},
   "outputs": [
    {
     "data": {
      "image/png": "[encoded data removed]",
      "text/plain": [
       "<Figure size 432x288 with 1 Axes>"
      ]
     },
     "metadata": {
      "needs_background": "light"
     },
     "output_type": "display_data"
    }
   ],
   "source": [
    "# create dendrogram\n",
    "dendrogram = sch.dendrogram(sch.linkage(sdata, method='complete'))"
   ]
  },
  {
   "cell_type": "code",
   "execution_count": 32,
   "id": "3a7036fe",
   "metadata": {},
   "outputs": [],
   "source": [
    "# create clusters\n",
    "hc = AgglomerativeClustering(n_clusters=3, affinity = 'euclidean', linkage = 'complete')"
   ]
  },
  {
   "cell_type": "code",
   "execution_count": 34,
   "id": "46d0070e",
   "metadata": {},
   "outputs": [
    {
     "data": {
      "text/plain": [
       "AgglomerativeClustering(linkage='complete', n_clusters=3)"
      ]
     },
     "execution_count": 34,
     "metadata": {},
     "output_type": "execute_result"
    }
   ],
   "source": [
    "hc.fit(sdata)"
   ]
  },
  {
   "cell_type": "code",
   "execution_count": 36,
   "id": "dab8441f",
   "metadata": {},
   "outputs": [
    {
     "data": {
      "text/plain": [
       "array([0, 0, 0, 0, 0, 0, 0, 0, 0, 0, 0, 0, 0, 0, 0, 0, 0, 0, 0, 0, 0, 0,\n",
       "       0, 0, 0, 0, 0, 0, 0, 0, 0, 0, 0, 0, 0, 0, 0, 0, 0, 0, 0, 0, 0, 0,\n",
       "       0, 0, 0, 0, 0, 0, 0, 0, 0, 0, 0, 0, 0, 0, 0, 1, 0, 0, 1, 0, 0, 0,\n",
       "       0, 0, 0, 0, 0, 0, 0, 0, 0, 1, 1, 0, 0, 0, 0, 0, 0, 2, 0, 0, 0, 0,\n",
       "       0, 0, 0, 0, 0, 0, 0, 0, 0, 0, 0, 0, 1, 0, 0, 0, 0, 0, 0, 0, 0, 0,\n",
       "       0, 0, 0, 0, 0, 0, 0, 0, 2, 0, 0, 0, 0, 0, 0, 0, 0, 0, 0, 2, 2, 2,\n",
       "       2, 2, 2, 2, 2, 2, 2, 2, 2, 2, 2, 2, 2, 2, 2, 2, 2, 2, 2, 2, 2, 2,\n",
       "       2, 2, 2, 2, 2, 2, 2, 2, 2, 2, 2, 2, 2, 2, 2, 2, 2, 2, 2, 2, 2, 2,\n",
       "       2, 2], dtype=int64)"
      ]
     },
     "execution_count": 36,
     "metadata": {},
     "output_type": "execute_result"
    }
   ],
   "source": [
    "# save clusters for chart\n",
    "y_hc = hc.fit_predict(sdata)\n",
    "y_hc"
   ]
  },
  {
   "cell_type": "code",
   "execution_count": 37,
   "id": "7e209fb2",
   "metadata": {},
   "outputs": [
    {
     "data": {
      "text/html": [
       "<div>\n",
       "<style scoped>\n",
       "    .dataframe tbody tr th:only-of-type {\n",
       "        vertical-align: middle;\n",
       "    }\n",
       "\n",
       "    .dataframe tbody tr th {\n",
       "        vertical-align: top;\n",
       "    }\n",
       "\n",
       "    .dataframe thead th {\n",
       "        text-align: right;\n",
       "    }\n",
       "</style>\n",
       "<table border=\"1\" class=\"dataframe\">\n",
       "  <thead>\n",
       "    <tr style=\"text-align: right;\">\n",
       "      <th></th>\n",
       "      <th>Type</th>\n",
       "      <th>Alcohol</th>\n",
       "      <th>Malic</th>\n",
       "      <th>Ash</th>\n",
       "      <th>Alcalinity</th>\n",
       "      <th>Magnesium</th>\n",
       "      <th>Phenols</th>\n",
       "      <th>Flavanoids</th>\n",
       "      <th>Nonflavanoids</th>\n",
       "      <th>Proanthocyanins</th>\n",
       "      <th>Color</th>\n",
       "      <th>Hue</th>\n",
       "      <th>Dilution</th>\n",
       "      <th>Proline</th>\n",
       "      <th>h_clusterid</th>\n",
       "    </tr>\n",
       "  </thead>\n",
       "  <tbody>\n",
       "    <tr>\n",
       "      <th>0</th>\n",
       "      <td>1</td>\n",
       "      <td>14.23</td>\n",
       "      <td>1.71</td>\n",
       "      <td>2.43</td>\n",
       "      <td>15.6</td>\n",
       "      <td>127</td>\n",
       "      <td>2.80</td>\n",
       "      <td>3.06</td>\n",
       "      <td>0.28</td>\n",
       "      <td>2.29</td>\n",
       "      <td>5.64</td>\n",
       "      <td>1.04</td>\n",
       "      <td>3.92</td>\n",
       "      <td>1065</td>\n",
       "      <td>0</td>\n",
       "    </tr>\n",
       "    <tr>\n",
       "      <th>1</th>\n",
       "      <td>1</td>\n",
       "      <td>13.20</td>\n",
       "      <td>1.78</td>\n",
       "      <td>2.14</td>\n",
       "      <td>11.2</td>\n",
       "      <td>100</td>\n",
       "      <td>2.65</td>\n",
       "      <td>2.76</td>\n",
       "      <td>0.26</td>\n",
       "      <td>1.28</td>\n",
       "      <td>4.38</td>\n",
       "      <td>1.05</td>\n",
       "      <td>3.40</td>\n",
       "      <td>1050</td>\n",
       "      <td>0</td>\n",
       "    </tr>\n",
       "    <tr>\n",
       "      <th>2</th>\n",
       "      <td>1</td>\n",
       "      <td>13.16</td>\n",
       "      <td>2.36</td>\n",
       "      <td>2.67</td>\n",
       "      <td>18.6</td>\n",
       "      <td>101</td>\n",
       "      <td>2.80</td>\n",
       "      <td>3.24</td>\n",
       "      <td>0.30</td>\n",
       "      <td>2.81</td>\n",
       "      <td>5.68</td>\n",
       "      <td>1.03</td>\n",
       "      <td>3.17</td>\n",
       "      <td>1185</td>\n",
       "      <td>0</td>\n",
       "    </tr>\n",
       "    <tr>\n",
       "      <th>3</th>\n",
       "      <td>1</td>\n",
       "      <td>14.37</td>\n",
       "      <td>1.95</td>\n",
       "      <td>2.50</td>\n",
       "      <td>16.8</td>\n",
       "      <td>113</td>\n",
       "      <td>3.85</td>\n",
       "      <td>3.49</td>\n",
       "      <td>0.24</td>\n",
       "      <td>2.18</td>\n",
       "      <td>7.80</td>\n",
       "      <td>0.86</td>\n",
       "      <td>3.45</td>\n",
       "      <td>1480</td>\n",
       "      <td>0</td>\n",
       "    </tr>\n",
       "    <tr>\n",
       "      <th>4</th>\n",
       "      <td>1</td>\n",
       "      <td>13.24</td>\n",
       "      <td>2.59</td>\n",
       "      <td>2.87</td>\n",
       "      <td>21.0</td>\n",
       "      <td>118</td>\n",
       "      <td>2.80</td>\n",
       "      <td>2.69</td>\n",
       "      <td>0.39</td>\n",
       "      <td>1.82</td>\n",
       "      <td>4.32</td>\n",
       "      <td>1.04</td>\n",
       "      <td>2.93</td>\n",
       "      <td>735</td>\n",
       "      <td>0</td>\n",
       "    </tr>\n",
       "  </tbody>\n",
       "</table>\n",
       "</div>"
      ],
      "text/plain": [
       "   Type  Alcohol  Malic   Ash  Alcalinity  Magnesium  Phenols  Flavanoids  \\\n",
       "0     1    14.23   1.71  2.43        15.6        127     2.80        3.06   \n",
       "1     1    13.20   1.78  2.14        11.2        100     2.65        2.76   \n",
       "2     1    13.16   2.36  2.67        18.6        101     2.80        3.24   \n",
       "3     1    14.37   1.95  2.50        16.8        113     3.85        3.49   \n",
       "4     1    13.24   2.59  2.87        21.0        118     2.80        2.69   \n",
       "\n",
       "   Nonflavanoids  Proanthocyanins  Color   Hue  Dilution  Proline  h_clusterid  \n",
       "0           0.28             2.29   5.64  1.04      3.92     1065            0  \n",
       "1           0.26             1.28   4.38  1.05      3.40     1050            0  \n",
       "2           0.30             2.81   5.68  1.03      3.17     1185            0  \n",
       "3           0.24             2.18   7.80  0.86      3.45     1480            0  \n",
       "4           0.39             1.82   4.32  1.04      2.93      735            0  "
      ]
     },
     "execution_count": 37,
     "metadata": {},
     "output_type": "execute_result"
    }
   ],
   "source": [
    "data['h_clusterid'] = y_hc\n",
    "data.head()"
   ]
  },
  {
   "cell_type": "code",
   "execution_count": 38,
   "id": "572d2b4d",
   "metadata": {},
   "outputs": [],
   "source": [
    "#kmeans clustering\n",
    "from sklearn.cluster import KMeans"
   ]
  },
  {
   "cell_type": "code",
   "execution_count": 40,
   "id": "f6463c3b",
   "metadata": {},
   "outputs": [
    {
     "name": "stderr",
     "output_type": "stream",
     "text": [
      "C:\\ProgramData\\Anaconda3\\lib\\site-packages\\sklearn\\cluster\\_kmeans.py:881: UserWarning: KMeans is known to have a memory leak on Windows with MKL, when there are less chunks than available threads. You can avoid it by setting the environment variable OMP_NUM_THREADS=1.\n",
      "  warnings.warn(\n"
     ]
    },
    {
     "data": {
      "image/png": "[encoded data removed]",
      "text/plain": [
       "<Figure size 432x288 with 1 Axes>"
      ]
     },
     "metadata": {
      "needs_background": "light"
     },
     "output_type": "display_data"
    }
   ],
   "source": [
    "#to find optimum number of cluster\n",
    "#create a blank list\n",
    "wcss = []\n",
    "for i in range (1,11):\n",
    "    kmeans = KMeans(n_clusters=i)\n",
    "    kmeans.fit(sdata)\n",
    "    wcss.append(kmeans.inertia_)\n",
    "plt.plot(range(1,11),wcss)\n",
    "plt.title('Elbow Method')\n",
    "plt.xlabel('Number of clusters')\n",
    "plt.ylabel('wcss')\n",
    "plt.show()"
   ]
  },
  {
   "cell_type": "code",
   "execution_count": 41,
   "id": "75d3fd2d",
   "metadata": {},
   "outputs": [
    {
     "data": {
      "text/plain": [
       "array([2, 2, 2, 2, 2, 2, 2, 2, 2, 2, 2, 2, 2, 2, 2, 2, 2, 2, 2, 2, 2, 2,\n",
       "       2, 2, 2, 2, 2, 2, 2, 2, 2, 2, 2, 2, 2, 2, 2, 2, 2, 2, 2, 2, 2, 2,\n",
       "       2, 2, 2, 2, 2, 2, 2, 2, 2, 2, 2, 2, 2, 2, 2, 0, 0, 0, 0, 0, 0, 0,\n",
       "       0, 0, 0, 0, 0, 0, 0, 2, 0, 0, 0, 0, 0, 0, 0, 0, 0, 1, 0, 0, 0, 0,\n",
       "       0, 0, 0, 0, 0, 0, 0, 2, 0, 0, 0, 0, 0, 0, 0, 0, 0, 0, 0, 0, 0, 0,\n",
       "       0, 0, 0, 0, 0, 0, 0, 0, 0, 0, 0, 0, 0, 0, 0, 0, 0, 0, 0, 0, 1, 1,\n",
       "       1, 1, 1, 1, 1, 1, 1, 1, 1, 1, 1, 1, 1, 1, 1, 1, 1, 1, 1, 1, 1, 1,\n",
       "       1, 1, 1, 1, 1, 1, 1, 1, 1, 1, 1, 1, 1, 1, 1, 1, 1, 1, 1, 1, 1, 1,\n",
       "       1, 1])"
      ]
     },
     "execution_count": 41,
     "metadata": {},
     "output_type": "execute_result"
    }
   ],
   "source": [
    "from sklearn.metrics import silhouette_score\n",
    "kmeans = KMeans(n_clusters=3)\n",
    "predict = kmeans.fit_predict(sdata)\n",
    "predict"
   ]
  },
  {
   "cell_type": "code",
   "execution_count": 43,
   "id": "98b61c99",
   "metadata": {},
   "outputs": [
    {
     "data": {
      "text/plain": [
       "KMeans(n_clusters=3, random_state=42)"
      ]
     },
     "execution_count": 43,
     "metadata": {},
     "output_type": "execute_result"
    }
   ],
   "source": [
    "#building cluster algorithm\n",
    "clusters_new = KMeans(3,random_state=42)\n",
    "clusters_new.fit(sdata)"
   ]
  },
  {
   "cell_type": "code",
   "execution_count": 44,
   "id": "d1116719",
   "metadata": {},
   "outputs": [
    {
     "data": {
      "text/plain": [
       "array([1, 1, 1, 1, 1, 1, 1, 1, 1, 1, 1, 1, 1, 1, 1, 1, 1, 1, 1, 1, 1, 1,\n",
       "       1, 1, 1, 1, 1, 1, 1, 1, 1, 1, 1, 1, 1, 1, 1, 1, 1, 1, 1, 1, 1, 1,\n",
       "       1, 1, 1, 1, 1, 1, 1, 1, 1, 1, 1, 1, 1, 1, 1, 0, 0, 0, 0, 0, 0, 0,\n",
       "       0, 0, 0, 0, 0, 0, 0, 1, 0, 0, 0, 0, 0, 0, 0, 0, 0, 2, 0, 0, 0, 0,\n",
       "       0, 0, 0, 0, 0, 0, 0, 1, 0, 0, 0, 0, 0, 0, 0, 0, 0, 0, 0, 0, 0, 0,\n",
       "       0, 0, 0, 0, 0, 0, 0, 0, 0, 0, 0, 0, 0, 0, 0, 0, 0, 0, 0, 0, 2, 2,\n",
       "       2, 2, 2, 2, 2, 2, 2, 2, 2, 2, 2, 2, 2, 2, 2, 2, 2, 2, 2, 2, 2, 2,\n",
       "       2, 2, 2, 2, 2, 2, 2, 2, 2, 2, 2, 2, 2, 2, 2, 2, 2, 2, 2, 2, 2, 2,\n",
       "       2, 2])"
      ]
     },
     "execution_count": 44,
     "metadata": {},
     "output_type": "execute_result"
    }
   ],
   "source": [
    "clusters_new.labels_"
   ]
  },
  {
   "cell_type": "code",
   "execution_count": 45,
   "id": "d7aed976",
   "metadata": {},
   "outputs": [
    {
     "data": {
      "text/plain": [
       "array([[ 0.07996036, -0.9221257 , -0.3788889 , -0.46568753,  0.17550695,\n",
       "        -0.47025072, -0.07393442,  0.04428767,  0.0087608 ,  0.01826487,\n",
       "        -0.86227808,  0.42450329,  0.24978206, -0.76524984],\n",
       "       [-1.17152057,  0.87809728, -0.30457633,  0.31894179, -0.66452366,\n",
       "         0.56488825,  0.87650546,  0.94363903, -0.58558981,  0.58178294,\n",
       "         0.16718842,  0.48372814,  0.76705349,  1.15834713],\n",
       "       [ 1.34745816,  0.18654314,  0.90497145,  0.24921026,  0.58370348,\n",
       "        -0.05063539, -0.988557  , -1.23619475,  0.71684172, -0.74960756,\n",
       "         0.98849829, -1.19129878, -1.30153966, -0.38004461]])"
      ]
     },
     "execution_count": 45,
     "metadata": {},
     "output_type": "execute_result"
    }
   ],
   "source": [
    "data['Cluster_Id'] = clusters_new.labels_\n",
    "clusters_new.cluster_centers_"
   ]
  },
  {
   "cell_type": "code",
   "execution_count": 46,
   "id": "5a613a1a",
   "metadata": {},
   "outputs": [
    {
     "data": {
      "text/html": [
       "<div>\n",
       "<style scoped>\n",
       "    .dataframe tbody tr th:only-of-type {\n",
       "        vertical-align: middle;\n",
       "    }\n",
       "\n",
       "    .dataframe tbody tr th {\n",
       "        vertical-align: top;\n",
       "    }\n",
       "\n",
       "    .dataframe thead th {\n",
       "        text-align: right;\n",
       "    }\n",
       "</style>\n",
       "<table border=\"1\" class=\"dataframe\">\n",
       "  <thead>\n",
       "    <tr style=\"text-align: right;\">\n",
       "      <th></th>\n",
       "      <th>Type</th>\n",
       "      <th>Alcohol</th>\n",
       "      <th>Malic</th>\n",
       "      <th>Ash</th>\n",
       "      <th>Alcalinity</th>\n",
       "      <th>Magnesium</th>\n",
       "      <th>Phenols</th>\n",
       "      <th>Flavanoids</th>\n",
       "      <th>Nonflavanoids</th>\n",
       "      <th>Proanthocyanins</th>\n",
       "      <th>Color</th>\n",
       "      <th>Hue</th>\n",
       "      <th>Dilution</th>\n",
       "      <th>Proline</th>\n",
       "      <th>h_clusterid</th>\n",
       "      <th>Cluster_Id</th>\n",
       "    </tr>\n",
       "  </thead>\n",
       "  <tbody>\n",
       "    <tr>\n",
       "      <th>0</th>\n",
       "      <td>1</td>\n",
       "      <td>14.23</td>\n",
       "      <td>1.71</td>\n",
       "      <td>2.43</td>\n",
       "      <td>15.6</td>\n",
       "      <td>127</td>\n",
       "      <td>2.80</td>\n",
       "      <td>3.06</td>\n",
       "      <td>0.28</td>\n",
       "      <td>2.29</td>\n",
       "      <td>5.64</td>\n",
       "      <td>1.04</td>\n",
       "      <td>3.92</td>\n",
       "      <td>1065</td>\n",
       "      <td>0</td>\n",
       "      <td>1</td>\n",
       "    </tr>\n",
       "    <tr>\n",
       "      <th>1</th>\n",
       "      <td>1</td>\n",
       "      <td>13.20</td>\n",
       "      <td>1.78</td>\n",
       "      <td>2.14</td>\n",
       "      <td>11.2</td>\n",
       "      <td>100</td>\n",
       "      <td>2.65</td>\n",
       "      <td>2.76</td>\n",
       "      <td>0.26</td>\n",
       "      <td>1.28</td>\n",
       "      <td>4.38</td>\n",
       "      <td>1.05</td>\n",
       "      <td>3.40</td>\n",
       "      <td>1050</td>\n",
       "      <td>0</td>\n",
       "      <td>1</td>\n",
       "    </tr>\n",
       "    <tr>\n",
       "      <th>2</th>\n",
       "      <td>1</td>\n",
       "      <td>13.16</td>\n",
       "      <td>2.36</td>\n",
       "      <td>2.67</td>\n",
       "      <td>18.6</td>\n",
       "      <td>101</td>\n",
       "      <td>2.80</td>\n",
       "      <td>3.24</td>\n",
       "      <td>0.30</td>\n",
       "      <td>2.81</td>\n",
       "      <td>5.68</td>\n",
       "      <td>1.03</td>\n",
       "      <td>3.17</td>\n",
       "      <td>1185</td>\n",
       "      <td>0</td>\n",
       "      <td>1</td>\n",
       "    </tr>\n",
       "    <tr>\n",
       "      <th>3</th>\n",
       "      <td>1</td>\n",
       "      <td>14.37</td>\n",
       "      <td>1.95</td>\n",
       "      <td>2.50</td>\n",
       "      <td>16.8</td>\n",
       "      <td>113</td>\n",
       "      <td>3.85</td>\n",
       "      <td>3.49</td>\n",
       "      <td>0.24</td>\n",
       "      <td>2.18</td>\n",
       "      <td>7.80</td>\n",
       "      <td>0.86</td>\n",
       "      <td>3.45</td>\n",
       "      <td>1480</td>\n",
       "      <td>0</td>\n",
       "      <td>1</td>\n",
       "    </tr>\n",
       "    <tr>\n",
       "      <th>4</th>\n",
       "      <td>1</td>\n",
       "      <td>13.24</td>\n",
       "      <td>2.59</td>\n",
       "      <td>2.87</td>\n",
       "      <td>21.0</td>\n",
       "      <td>118</td>\n",
       "      <td>2.80</td>\n",
       "      <td>2.69</td>\n",
       "      <td>0.39</td>\n",
       "      <td>1.82</td>\n",
       "      <td>4.32</td>\n",
       "      <td>1.04</td>\n",
       "      <td>2.93</td>\n",
       "      <td>735</td>\n",
       "      <td>0</td>\n",
       "      <td>1</td>\n",
       "    </tr>\n",
       "    <tr>\n",
       "      <th>...</th>\n",
       "      <td>...</td>\n",
       "      <td>...</td>\n",
       "      <td>...</td>\n",
       "      <td>...</td>\n",
       "      <td>...</td>\n",
       "      <td>...</td>\n",
       "      <td>...</td>\n",
       "      <td>...</td>\n",
       "      <td>...</td>\n",
       "      <td>...</td>\n",
       "      <td>...</td>\n",
       "      <td>...</td>\n",
       "      <td>...</td>\n",
       "      <td>...</td>\n",
       "      <td>...</td>\n",
       "      <td>...</td>\n",
       "    </tr>\n",
       "    <tr>\n",
       "      <th>173</th>\n",
       "      <td>3</td>\n",
       "      <td>13.71</td>\n",
       "      <td>5.65</td>\n",
       "      <td>2.45</td>\n",
       "      <td>20.5</td>\n",
       "      <td>95</td>\n",
       "      <td>1.68</td>\n",
       "      <td>0.61</td>\n",
       "      <td>0.52</td>\n",
       "      <td>1.06</td>\n",
       "      <td>7.70</td>\n",
       "      <td>0.64</td>\n",
       "      <td>1.74</td>\n",
       "      <td>740</td>\n",
       "      <td>2</td>\n",
       "      <td>2</td>\n",
       "    </tr>\n",
       "    <tr>\n",
       "      <th>174</th>\n",
       "      <td>3</td>\n",
       "      <td>13.40</td>\n",
       "      <td>3.91</td>\n",
       "      <td>2.48</td>\n",
       "      <td>23.0</td>\n",
       "      <td>102</td>\n",
       "      <td>1.80</td>\n",
       "      <td>0.75</td>\n",
       "      <td>0.43</td>\n",
       "      <td>1.41</td>\n",
       "      <td>7.30</td>\n",
       "      <td>0.70</td>\n",
       "      <td>1.56</td>\n",
       "      <td>750</td>\n",
       "      <td>2</td>\n",
       "      <td>2</td>\n",
       "    </tr>\n",
       "    <tr>\n",
       "      <th>175</th>\n",
       "      <td>3</td>\n",
       "      <td>13.27</td>\n",
       "      <td>4.28</td>\n",
       "      <td>2.26</td>\n",
       "      <td>20.0</td>\n",
       "      <td>120</td>\n",
       "      <td>1.59</td>\n",
       "      <td>0.69</td>\n",
       "      <td>0.43</td>\n",
       "      <td>1.35</td>\n",
       "      <td>10.20</td>\n",
       "      <td>0.59</td>\n",
       "      <td>1.56</td>\n",
       "      <td>835</td>\n",
       "      <td>2</td>\n",
       "      <td>2</td>\n",
       "    </tr>\n",
       "    <tr>\n",
       "      <th>176</th>\n",
       "      <td>3</td>\n",
       "      <td>13.17</td>\n",
       "      <td>2.59</td>\n",
       "      <td>2.37</td>\n",
       "      <td>20.0</td>\n",
       "      <td>120</td>\n",
       "      <td>1.65</td>\n",
       "      <td>0.68</td>\n",
       "      <td>0.53</td>\n",
       "      <td>1.46</td>\n",
       "      <td>9.30</td>\n",
       "      <td>0.60</td>\n",
       "      <td>1.62</td>\n",
       "      <td>840</td>\n",
       "      <td>2</td>\n",
       "      <td>2</td>\n",
       "    </tr>\n",
       "    <tr>\n",
       "      <th>177</th>\n",
       "      <td>3</td>\n",
       "      <td>14.13</td>\n",
       "      <td>4.10</td>\n",
       "      <td>2.74</td>\n",
       "      <td>24.5</td>\n",
       "      <td>96</td>\n",
       "      <td>2.05</td>\n",
       "      <td>0.76</td>\n",
       "      <td>0.56</td>\n",
       "      <td>1.35</td>\n",
       "      <td>9.20</td>\n",
       "      <td>0.61</td>\n",
       "      <td>1.60</td>\n",
       "      <td>560</td>\n",
       "      <td>2</td>\n",
       "      <td>2</td>\n",
       "    </tr>\n",
       "  </tbody>\n",
       "</table>\n",
       "<p>178 rows × 16 columns</p>\n",
       "</div>"
      ],
      "text/plain": [
       "     Type  Alcohol  Malic   Ash  Alcalinity  Magnesium  Phenols  Flavanoids  \\\n",
       "0       1    14.23   1.71  2.43        15.6        127     2.80        3.06   \n",
       "1       1    13.20   1.78  2.14        11.2        100     2.65        2.76   \n",
       "2       1    13.16   2.36  2.67        18.6        101     2.80        3.24   \n",
       "3       1    14.37   1.95  2.50        16.8        113     3.85        3.49   \n",
       "4       1    13.24   2.59  2.87        21.0        118     2.80        2.69   \n",
       "..    ...      ...    ...   ...         ...        ...      ...         ...   \n",
       "173     3    13.71   5.65  2.45        20.5         95     1.68        0.61   \n",
       "174     3    13.40   3.91  2.48        23.0        102     1.80        0.75   \n",
       "175     3    13.27   4.28  2.26        20.0        120     1.59        0.69   \n",
       "176     3    13.17   2.59  2.37        20.0        120     1.65        0.68   \n",
       "177     3    14.13   4.10  2.74        24.5         96     2.05        0.76   \n",
       "\n",
       "     Nonflavanoids  Proanthocyanins  Color   Hue  Dilution  Proline  \\\n",
       "0             0.28             2.29   5.64  1.04      3.92     1065   \n",
       "1             0.26             1.28   4.38  1.05      3.40     1050   \n",
       "2             0.30             2.81   5.68  1.03      3.17     1185   \n",
       "3             0.24             2.18   7.80  0.86      3.45     1480   \n",
       "4             0.39             1.82   4.32  1.04      2.93      735   \n",
       "..             ...              ...    ...   ...       ...      ...   \n",
       "173           0.52             1.06   7.70  0.64      1.74      740   \n",
       "174           0.43             1.41   7.30  0.70      1.56      750   \n",
       "175           0.43             1.35  10.20  0.59      1.56      835   \n",
       "176           0.53             1.46   9.30  0.60      1.62      840   \n",
       "177           0.56             1.35   9.20  0.61      1.60      560   \n",
       "\n",
       "     h_clusterid  Cluster_Id  \n",
       "0              0           1  \n",
       "1              0           1  \n",
       "2              0           1  \n",
       "3              0           1  \n",
       "4              0           1  \n",
       "..           ...         ...  \n",
       "173            2           2  \n",
       "174            2           2  \n",
       "175            2           2  \n",
       "176            2           2  \n",
       "177            2           2  \n",
       "\n",
       "[178 rows x 16 columns]"
      ]
     },
     "execution_count": 46,
     "metadata": {},
     "output_type": "execute_result"
    }
   ],
   "source": [
    "data"
   ]
  },
  {
   "cell_type": "code",
   "execution_count": 47,
   "id": "8a149dae",
   "metadata": {},
   "outputs": [
    {
     "data": {
      "text/plain": [
       "0    68\n",
       "1    61\n",
       "2    49\n",
       "Name: Cluster_Id, dtype: int64"
      ]
     },
     "execution_count": 47,
     "metadata": {},
     "output_type": "execute_result"
    }
   ],
   "source": [
    "data['Cluster_Id'].value_counts()"
   ]
  },
  {
   "cell_type": "code",
   "execution_count": null,
   "id": "65fab4b4",
   "metadata": {},
   "outputs": [],
   "source": []
  }
 ],
 "metadata": {
  "kernelspec": {
   "display_name": "Python 3",
   "language": "python",
   "name": "python3"
  },
  "language_info": {
   "codemirror_mode": {
    "name": "ipython",
    "version": 3
   },
   "file_extension": ".py",
   "mimetype": "text/x-python",
   "name": "python",
   "nbconvert_exporter": "python",
   "pygments_lexer": "ipython3",
   "version": "3.8.8"
  }
 },
 "nbformat": 4,
 "nbformat_minor": 5
}
